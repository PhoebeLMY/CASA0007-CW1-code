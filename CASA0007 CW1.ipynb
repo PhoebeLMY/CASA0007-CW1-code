{
 "cells": [
  {
   "cell_type": "code",
   "execution_count": 1,
   "id": "af557767-04c1-43a3-b428-30136314e990",
   "metadata": {
    "tags": []
   },
   "outputs": [],
   "source": [
    "# import relevant packages\n",
    "\n",
    "import numpy as np\n",
    "import scipy.stats as sps\n",
    "import pandas as pd\n",
    "import matplotlib.pyplot as plt\n",
    "import statsmodels.api as sms\n",
    "\n",
    "%matplotlib inline\n",
    "\n",
    "# UNCOMMENT THE FOLLOWING IF USING GOOGLE COLAB\n",
    "#from google.colab import files\n",
    "#uploaded = files.upload()\n",
    "\n",
    "# In the next line, replace sample_boxplot_data.csv with the filename of your data:\n",
    "data_filename = 'coursework_1_data_2019.csv'"
   ]
  },
  {
   "cell_type": "code",
   "execution_count": 9,
   "id": "4a1ad1a5-ab80-4001-8181-0a6bfa9a66e2",
   "metadata": {},
   "outputs": [
    {
     "data": {
      "text/html": [
       "<div>\n",
       "<style scoped>\n",
       "    .dataframe tbody tr th:only-of-type {\n",
       "        vertical-align: middle;\n",
       "    }\n",
       "\n",
       "    .dataframe tbody tr th {\n",
       "        vertical-align: top;\n",
       "    }\n",
       "\n",
       "    .dataframe thead th {\n",
       "        text-align: right;\n",
       "    }\n",
       "</style>\n",
       "<table border=\"1\" class=\"dataframe\">\n",
       "  <thead>\n",
       "    <tr style=\"text-align: right;\">\n",
       "      <th></th>\n",
       "      <th>2008_prop_male</th>\n",
       "      <th>2018_prop_male</th>\n",
       "    </tr>\n",
       "  </thead>\n",
       "  <tbody>\n",
       "    <tr>\n",
       "      <th>0</th>\n",
       "      <td>0.002229</td>\n",
       "      <td>0.002949</td>\n",
       "    </tr>\n",
       "    <tr>\n",
       "      <th>1</th>\n",
       "      <td>0.001254</td>\n",
       "      <td>0.001805</td>\n",
       "    </tr>\n",
       "    <tr>\n",
       "      <th>2</th>\n",
       "      <td>0.001341</td>\n",
       "      <td>0.001669</td>\n",
       "    </tr>\n",
       "    <tr>\n",
       "      <th>3</th>\n",
       "      <td>0.001804</td>\n",
       "      <td>0.001716</td>\n",
       "    </tr>\n",
       "    <tr>\n",
       "      <th>4</th>\n",
       "      <td>0.001817</td>\n",
       "      <td>0.001888</td>\n",
       "    </tr>\n",
       "  </tbody>\n",
       "</table>\n",
       "</div>"
      ],
      "text/plain": [
       "   2008_prop_male  2018_prop_male\n",
       "0        0.002229        0.002949\n",
       "1        0.001254        0.001805\n",
       "2        0.001341        0.001669\n",
       "3        0.001804        0.001716\n",
       "4        0.001817        0.001888"
      ]
     },
     "execution_count": 9,
     "metadata": {},
     "output_type": "execute_result"
    }
   ],
   "source": [
    "# Get the data on the proportion of Condition X of male and female (obtain the proportion firstly in the excel):\n",
    "data_m = pd.read_csv('coursework_1_data_2019.csv')[['2008_prop_male','2018_prop_male']]\n",
    "data_f = pd.read_csv('coursework_1_data_2019.csv')[['2008_prop_female','2018_prop_female']]\n",
    "\n",
    "# Look at the first few rows:\n",
    "data_m.head()"
   ]
  },
  {
   "cell_type": "code",
   "execution_count": 10,
   "id": "2dc9da42-bb17-41c7-89e8-811a1dde99cd",
   "metadata": {},
   "outputs": [
    {
     "data": {
      "text/html": [
       "<div>\n",
       "<style scoped>\n",
       "    .dataframe tbody tr th:only-of-type {\n",
       "        vertical-align: middle;\n",
       "    }\n",
       "\n",
       "    .dataframe tbody tr th {\n",
       "        vertical-align: top;\n",
       "    }\n",
       "\n",
       "    .dataframe thead th {\n",
       "        text-align: right;\n",
       "    }\n",
       "</style>\n",
       "<table border=\"1\" class=\"dataframe\">\n",
       "  <thead>\n",
       "    <tr style=\"text-align: right;\">\n",
       "      <th></th>\n",
       "      <th>2008_prop_female</th>\n",
       "      <th>2018_prop_female</th>\n",
       "    </tr>\n",
       "  </thead>\n",
       "  <tbody>\n",
       "    <tr>\n",
       "      <th>0</th>\n",
       "      <td>0.004572</td>\n",
       "      <td>0.005135</td>\n",
       "    </tr>\n",
       "    <tr>\n",
       "      <th>1</th>\n",
       "      <td>0.001908</td>\n",
       "      <td>0.002477</td>\n",
       "    </tr>\n",
       "    <tr>\n",
       "      <th>2</th>\n",
       "      <td>0.001822</td>\n",
       "      <td>0.002408</td>\n",
       "    </tr>\n",
       "    <tr>\n",
       "      <th>3</th>\n",
       "      <td>0.003264</td>\n",
       "      <td>0.003433</td>\n",
       "    </tr>\n",
       "    <tr>\n",
       "      <th>4</th>\n",
       "      <td>0.002103</td>\n",
       "      <td>0.002402</td>\n",
       "    </tr>\n",
       "  </tbody>\n",
       "</table>\n",
       "</div>"
      ],
      "text/plain": [
       "   2008_prop_female  2018_prop_female\n",
       "0          0.004572          0.005135\n",
       "1          0.001908          0.002477\n",
       "2          0.001822          0.002408\n",
       "3          0.003264          0.003433\n",
       "4          0.002103          0.002402"
      ]
     },
     "execution_count": 10,
     "metadata": {},
     "output_type": "execute_result"
    }
   ],
   "source": [
    "data_f.head()"
   ]
  },
  {
   "cell_type": "markdown",
   "id": "dae75f52-4b85-468e-be38-9bf818937c4e",
   "metadata": {},
   "source": [
    "# 1. Firstly plot male"
   ]
  },
  {
   "cell_type": "markdown",
   "id": "be8fdf0d-fe2a-4584-93d9-c4314930a114",
   "metadata": {},
   "source": [
    "## 1.1 Simple regression for male"
   ]
  },
  {
   "cell_type": "code",
   "execution_count": 111,
   "id": "e189957c-e3f0-419f-914d-235f6ef71c10",
   "metadata": {
    "tags": []
   },
   "outputs": [
    {
     "data": {
      "text/html": [
       "<div>\n",
       "<style scoped>\n",
       "    .dataframe tbody tr th:only-of-type {\n",
       "        vertical-align: middle;\n",
       "    }\n",
       "\n",
       "    .dataframe tbody tr th {\n",
       "        vertical-align: top;\n",
       "    }\n",
       "\n",
       "    .dataframe thead th {\n",
       "        text-align: right;\n",
       "    }\n",
       "</style>\n",
       "<table border=\"1\" class=\"dataframe\">\n",
       "  <thead>\n",
       "    <tr style=\"text-align: right;\">\n",
       "      <th></th>\n",
       "      <th>2008_prop_male</th>\n",
       "      <th>2018_prop_male</th>\n",
       "    </tr>\n",
       "  </thead>\n",
       "  <tbody>\n",
       "    <tr>\n",
       "      <th>count</th>\n",
       "      <td>152.000000</td>\n",
       "      <td>152.000000</td>\n",
       "    </tr>\n",
       "    <tr>\n",
       "      <th>mean</th>\n",
       "      <td>0.002223</td>\n",
       "      <td>0.002470</td>\n",
       "    </tr>\n",
       "    <tr>\n",
       "      <th>std</th>\n",
       "      <td>0.000974</td>\n",
       "      <td>0.000987</td>\n",
       "    </tr>\n",
       "    <tr>\n",
       "      <th>min</th>\n",
       "      <td>0.000639</td>\n",
       "      <td>0.000682</td>\n",
       "    </tr>\n",
       "    <tr>\n",
       "      <th>25%</th>\n",
       "      <td>0.001571</td>\n",
       "      <td>0.001812</td>\n",
       "    </tr>\n",
       "    <tr>\n",
       "      <th>50%</th>\n",
       "      <td>0.002061</td>\n",
       "      <td>0.002329</td>\n",
       "    </tr>\n",
       "    <tr>\n",
       "      <th>75%</th>\n",
       "      <td>0.002641</td>\n",
       "      <td>0.002922</td>\n",
       "    </tr>\n",
       "    <tr>\n",
       "      <th>max</th>\n",
       "      <td>0.006295</td>\n",
       "      <td>0.006586</td>\n",
       "    </tr>\n",
       "  </tbody>\n",
       "</table>\n",
       "</div>"
      ],
      "text/plain": [
       "       2008_prop_male  2018_prop_male\n",
       "count      152.000000      152.000000\n",
       "mean         0.002223        0.002470\n",
       "std          0.000974        0.000987\n",
       "min          0.000639        0.000682\n",
       "25%          0.001571        0.001812\n",
       "50%          0.002061        0.002329\n",
       "75%          0.002641        0.002922\n",
       "max          0.006295        0.006586"
      ]
     },
     "execution_count": 111,
     "metadata": {},
     "output_type": "execute_result"
    }
   ],
   "source": [
    "#For convenience...\n",
    "\n",
    "# Store each sample separately:\n",
    "data1 = data_m['2008_prop_male']\n",
    "data2 = data_m['2018_prop_male']\n",
    "\n",
    "# Store some useful values\n",
    "\n",
    "min1 = data1.min()\n",
    "min2 = data2.min()\n",
    "\n",
    "max1 = data1.max()\n",
    "max2 = data2.max()\n",
    "\n",
    "mean1 = data1.mean()\n",
    "mean2 = data2.mean()\n",
    "\n",
    "std1 = data1.std()\n",
    "std2 = data2.std()\n",
    "\n",
    "n1 = len(data1)\n",
    "n2 = len(data2)\n",
    "\n",
    "# And print some summary information:\n",
    "\n",
    "data_m.describe()"
   ]
  },
  {
   "cell_type": "code",
   "execution_count": 117,
   "id": "e01b7241-d36a-46ec-a705-22b28861c030",
   "metadata": {},
   "outputs": [
    {
     "name": "stdout",
     "output_type": "stream",
     "text": [
      "                            OLS Regression Results                            \n",
      "==============================================================================\n",
      "Dep. Variable:         2018_prop_male   R-squared:                       0.930\n",
      "Model:                            OLS   Adj. R-squared:                  0.929\n",
      "Method:                 Least Squares   F-statistic:                     1981.\n",
      "Date:                Mon, 15 Nov 2021   Prob (F-statistic):           2.47e-88\n",
      "Time:                        10:46:23   Log-Likelihood:                 1038.4\n",
      "No. Observations:                 152   AIC:                            -2073.\n",
      "Df Residuals:                     150   BIC:                            -2067.\n",
      "Df Model:                           1                                         \n",
      "Covariance Type:            nonrobust                                         \n",
      "==================================================================================\n",
      "                     coef    std err          t      P>|t|      [0.025      0.975]\n",
      "----------------------------------------------------------------------------------\n",
      "const              0.0003   5.33e-05      5.592      0.000       0.000       0.000\n",
      "2008_prop_male     0.9773      0.022     44.507      0.000       0.934       1.021\n",
      "==============================================================================\n",
      "Omnibus:                       36.107   Durbin-Watson:                   2.191\n",
      "Prob(Omnibus):                  0.000   Jarque-Bera (JB):              125.281\n",
      "Skew:                          -0.831   Prob(JB):                     6.25e-28\n",
      "Kurtosis:                       7.126   Cond. No.                     1.03e+03\n",
      "==============================================================================\n",
      "\n",
      "Notes:\n",
      "[1] Standard Errors assume that the covariance matrix of the errors is correctly specified.\n",
      "[2] The condition number is large, 1.03e+03. This might indicate that there are\n",
      "strong multicollinearity or other numerical problems.\n",
      "\n",
      "gradient  = 0.9772507033071276\n",
      "intercept = 0.00029781272390768017\n",
      "Rsquared  = 0.9296068831664452\n",
      "MSE       = 6.909633520760898e-08\n",
      "pvalue    = 2.474967434712871e-88\n"
     ]
    },
    {
     "name": "stderr",
     "output_type": "stream",
     "text": [
      "/opt/conda/envs/sds2021/lib/python3.9/site-packages/statsmodels/tsa/tsatools.py:142: FutureWarning: In a future version of pandas all arguments of concat except for the argument 'objs' will be keyword-only\n",
      "  x = pd.concat(x[::order], 1)\n"
     ]
    }
   ],
   "source": [
    "# Use the next line to set figure height and width (experiment to check the scale)\n",
    "# These lines extract the y-values and the x-values from the data:\n",
    "x_values = data_m['2008_prop_male']\n",
    "y_values = data_m['2018_prop_male']\n",
    "\n",
    "# These lines perform the regression procedure:\n",
    "X_values = sms.add_constant(x_values)\n",
    "regression_model_a = sms.OLS(y_values, X_values)\n",
    "regression_model_b = regression_model_a.fit()\n",
    "# and print a summary of the results:\n",
    "print(regression_model_b.summary())\n",
    "print() # blank line\n",
    "\n",
    "# Now we store all the relevant values:\n",
    "gradient  = regression_model_b.params[1]\n",
    "intercept = regression_model_b.params[0]\n",
    "Rsquared  = regression_model_b.rsquared\n",
    "MSE       = regression_model_b.mse_resid\n",
    "pvalue    = regression_model_b.f_pvalue\n",
    "\n",
    "# And print them:\n",
    "print(\"gradient  =\", regression_model_b.params[1])\n",
    "print(\"intercept =\", regression_model_b.params[0])\n",
    "print(\"Rsquared  =\", regression_model_b.rsquared)\n",
    "print(\"MSE       =\", regression_model_b.mse_resid)\n",
    "print(\"pvalue    =\", regression_model_b.f_pvalue)\n"
   ]
  },
  {
   "cell_type": "code",
   "execution_count": 118,
   "id": "cfe6b846-11f0-4b9a-ad4e-4cb2506b9ca0",
   "metadata": {},
   "outputs": [
    {
     "data": {
      "image/png": "[encoded data removed]",
      "text/plain": [
       "<Figure size 432x288 with 2 Axes>"
      ]
     },
     "metadata": {
      "needs_background": "light"
     },
     "output_type": "display_data"
    }
   ],
   "source": [
    "# The next lines create and save the plot for male data:\n",
    "\n",
    "data_f = pd.read_csv('coursework_1_data_2019.csv')[['2008_prop_female','2018_prop_female']]\n",
    "x = data_m['2008_prop_male']\n",
    "y = data_m['2018_prop_male']\n",
    "\n",
    "plt.scatter(x,y,s=10)\n",
    "yhat = 0.9998*x + 0.0004\n",
    "fig = plt.plot(x, yhat, lw=2, c='r', label='regression line')\n",
    "plt.xlabel('2008_prop_male', fontsize=15)\n",
    "plt.ylabel('2018_prop_male', fontsize=15)\n",
    "plt.title('Propotion of Condition X for males')\n",
    "plt.colorbar()\n",
    "\n",
    "# Save this figure\n",
    "plt.savefig('male_regression.png', dpi=300, bbox_inches = 'tight')"
   ]
  },
  {
   "cell_type": "code",
   "execution_count": 80,
   "id": "3ae4e0c2-7c08-4364-9ad7-c22d847e11a7",
   "metadata": {},
   "outputs": [
    {
     "data": {
      "text/plain": [
       "<AxesSubplot:>"
      ]
     },
     "execution_count": 80,
     "metadata": {},
     "output_type": "execute_result"
    },
    {
     "data": {
      "image/png": "[encoded data removed]",
      "text/plain": [
       "<Figure size 432x288 with 1 Axes>"
      ]
     },
     "metadata": {
      "needs_background": "light"
     },
     "output_type": "display_data"
    },
    {
     "data": {
      "image/png": "[encoded data removed]",
      "text/plain": [
       "<Figure size 432x288 with 1 Axes>"
      ]
     },
     "metadata": {
      "needs_background": "light"
     },
     "output_type": "display_data"
    }
   ],
   "source": [
    "# Visualise the distribution of the data for male proportion (as histograms)\n",
    "\n",
    "# Set common x-limits for the histograms:\n",
    "# (using int() is a trick to round to the integer below)\n",
    "hist_min = int(min(min1,min2)) - 1\n",
    "hist_max = int(max(max1,max2)) + 2\n",
    "x_range = [hist_min, hist_max]\n",
    "\n",
    "# Set common y-limits for the histograms:\n",
    "y_range = [0.0,0.4]\n",
    "\n",
    "# Choose an appropriate number of columns for the histogram:\n",
    "n_cols = hist_min, hist_max\n",
    "\n",
    "# Now create the plots:\n",
    "# (The plt.figure(x) functions create new plots preventing...\n",
    "# ... both histograms from being drawn on the same axes.)\n",
    "\n",
    "plt.figure(1)\n",
    "data_m['2008_prop_male'].hist(range=x_range, bins=n_cols, density=True)\n",
    "plt.ylim(y_range)\n",
    "\n",
    "plt.figure(2)\n",
    "plt.ylim(y_range)\n",
    "data_m['2018_prop_male'].hist(range=x_range, bins=n_cols, density=True)"
   ]
  },
  {
   "cell_type": "markdown",
   "id": "b4841976-95bc-4f85-afe8-f79a71e811bb",
   "metadata": {},
   "source": [
    "## 1.2 Hypothesis Test: male"
   ]
  },
  {
   "cell_type": "markdown",
   "id": "3f2c05f4-adfd-4ab6-b493-50b706f36af5",
   "metadata": {},
   "source": [
    " step1: state hypoythesis"
   ]
  },
  {
   "cell_type": "code",
   "execution_count": 55,
   "id": "e564f385-269a-42c2-9782-74bb6bbfee35",
   "metadata": {
    "tags": []
   },
   "outputs": [],
   "source": [
    "# H0: The situation of Condition X of male does not reduced by intervension between 2008 and 2018\n",
    "# H1: The situation of Condition X of male reduced by intervension between 2008 and 2018"
   ]
  },
  {
   "cell_type": "markdown",
   "id": "f3501806-2f23-4722-96b1-fcea6ef5d863",
   "metadata": {},
   "source": [
    "step2: Set significance level:"
   ]
  },
  {
   "cell_type": "code",
   "execution_count": null,
   "id": "91ad73fc-12a4-4ab1-bd29-f982f316d443",
   "metadata": {
    "tags": []
   },
   "outputs": [],
   "source": [
    "alpha = 0.05"
   ]
  },
  {
   "cell_type": "markdown",
   "id": "72e5584c-ee10-49b0-b47b-ed50f6481d00",
   "metadata": {},
   "source": [
    "step3-4: "
   ]
  },
  {
   "cell_type": "code",
   "execution_count": 90,
   "id": "b4cd9213-e10b-469c-9f63-fedae042a037",
   "metadata": {},
   "outputs": [
    {
     "name": "stdout",
     "output_type": "stream",
     "text": [
      "std_ratio = 0.5555555555555556\n",
      "Can assume equal population standard deviations.\n",
      "p-value = 0.028744491973562145\n"
     ]
    }
   ],
   "source": [
    "data1 = data_m['2008_prop_male']\n",
    "data2 = data_m['2018_prop_male']\n",
    "\n",
    "std_ratio = std1/std2\n",
    "\n",
    "print(\"std_ratio =\", std_ratio)\n",
    "\n",
    "if std_ratio > 0.5 and std_ratio < 2:\n",
    "    print(\"Can assume equal population standard deviations.\")\n",
    "    equal_stds = True\n",
    "else:\n",
    "    print(\"Cannot assume equal population standard deviations.\")\n",
    "    equal_stds = False\n",
    "test_stat, p_value = sps.ttest_ind(data1, data2, equal_var = equal_stds)\n",
    "print(\"p-value =\", p_value)"
   ]
  },
  {
   "cell_type": "markdown",
   "id": "a519718c-ab17-4349-8cca-253b2e62bf76",
   "metadata": {},
   "source": [
    "step5: Conclusion"
   ]
  },
  {
   "cell_type": "code",
   "execution_count": 115,
   "id": "aaa5cd5d-145d-46e2-b54a-80d736857032",
   "metadata": {},
   "outputs": [
    {
     "name": "stdout",
     "output_type": "stream",
     "text": [
      "p-value < significance threshold.\n",
      "Reject H0. Accept H1.\n",
      "Interventions have significant impact on male obesity between 2008 and 2018.\n"
     ]
    }
   ],
   "source": [
    "# Reach a conclusion:\n",
    "\n",
    "alpha = 0.05\n",
    "p_value = 0.028744491973562145\n",
    "\n",
    "if p_value < alpha:\n",
    "    print(\"p-value < significance threshold.\")\n",
    "    print(\"Reject H0. Accept H1.\")\n",
    "    print(\"Interventions have significant impact on male obesity between 2008 and 2018.\")\n",
    "elif p_value >= alpha:\n",
    "    print(\"p-value >= significance threshold.\")\n",
    "    print(\"No significant evidence to reject H0.\")\n",
    "    print(\"Interventions have no significant impact on male obesity between 2008 and 2018.\")"
   ]
  },
  {
   "cell_type": "markdown",
   "id": "b496371d-d528-4286-b67e-97ed437d30e2",
   "metadata": {},
   "source": [
    "# 2. Secondly plot female"
   ]
  },
  {
   "cell_type": "markdown",
   "id": "43cc6dab-c003-410e-8322-abd3bedce358",
   "metadata": {},
   "source": [
    "## 2.1 Simple regression for female"
   ]
  },
  {
   "cell_type": "code",
   "execution_count": 52,
   "id": "5bf30fe7-879d-48ab-981c-756adbd42339",
   "metadata": {
    "tags": []
   },
   "outputs": [
    {
     "data": {
      "text/html": [
       "<div>\n",
       "<style scoped>\n",
       "    .dataframe tbody tr th:only-of-type {\n",
       "        vertical-align: middle;\n",
       "    }\n",
       "\n",
       "    .dataframe tbody tr th {\n",
       "        vertical-align: top;\n",
       "    }\n",
       "\n",
       "    .dataframe thead th {\n",
       "        text-align: right;\n",
       "    }\n",
       "</style>\n",
       "<table border=\"1\" class=\"dataframe\">\n",
       "  <thead>\n",
       "    <tr style=\"text-align: right;\">\n",
       "      <th></th>\n",
       "      <th>2008_prop_female</th>\n",
       "      <th>2018_prop_female</th>\n",
       "    </tr>\n",
       "  </thead>\n",
       "  <tbody>\n",
       "    <tr>\n",
       "      <th>count</th>\n",
       "      <td>152.000000</td>\n",
       "      <td>152.000000</td>\n",
       "    </tr>\n",
       "    <tr>\n",
       "      <th>mean</th>\n",
       "      <td>0.003936</td>\n",
       "      <td>0.004346</td>\n",
       "    </tr>\n",
       "    <tr>\n",
       "      <th>std</th>\n",
       "      <td>0.001823</td>\n",
       "      <td>0.001839</td>\n",
       "    </tr>\n",
       "    <tr>\n",
       "      <th>min</th>\n",
       "      <td>0.000836</td>\n",
       "      <td>0.001183</td>\n",
       "    </tr>\n",
       "    <tr>\n",
       "      <th>25%</th>\n",
       "      <td>0.002649</td>\n",
       "      <td>0.003035</td>\n",
       "    </tr>\n",
       "    <tr>\n",
       "      <th>50%</th>\n",
       "      <td>0.003662</td>\n",
       "      <td>0.003961</td>\n",
       "    </tr>\n",
       "    <tr>\n",
       "      <th>75%</th>\n",
       "      <td>0.004730</td>\n",
       "      <td>0.005137</td>\n",
       "    </tr>\n",
       "    <tr>\n",
       "      <th>max</th>\n",
       "      <td>0.010138</td>\n",
       "      <td>0.010782</td>\n",
       "    </tr>\n",
       "  </tbody>\n",
       "</table>\n",
       "</div>"
      ],
      "text/plain": [
       "       2008_prop_female  2018_prop_female\n",
       "count        152.000000        152.000000\n",
       "mean           0.003936          0.004346\n",
       "std            0.001823          0.001839\n",
       "min            0.000836          0.001183\n",
       "25%            0.002649          0.003035\n",
       "50%            0.003662          0.003961\n",
       "75%            0.004730          0.005137\n",
       "max            0.010138          0.010782"
      ]
     },
     "execution_count": 52,
     "metadata": {},
     "output_type": "execute_result"
    }
   ],
   "source": [
    "#For convenience...\n",
    "\n",
    "# Store each sample separately:\n",
    "data1 = data_f['2008_prop_female']\n",
    "data2 = data_f['2018_prop_female']\n",
    "\n",
    "# Store some useful values\n",
    "\n",
    "min1 = data1.min()\n",
    "min2 = data2.min()\n",
    "\n",
    "max1 = data1.max()\n",
    "max2 = data2.max()\n",
    "\n",
    "mean1 = data1.mean()\n",
    "mean2 = data2.mean()\n",
    "\n",
    "std1 = data1.std()\n",
    "std2 = data2.std()\n",
    "\n",
    "n1 = len(data1)\n",
    "n2 = len(data2)\n",
    "\n",
    "# And print some summary information:\n",
    "\n",
    "data_f.describe()"
   ]
  },
  {
   "cell_type": "code",
   "execution_count": 53,
   "id": "be6f8377-e495-409d-9984-489631a2e04a",
   "metadata": {},
   "outputs": [
    {
     "name": "stdout",
     "output_type": "stream",
     "text": [
      "                            OLS Regression Results                            \n",
      "==============================================================================\n",
      "Dep. Variable:       2018_prop_female   R-squared:                       0.982\n",
      "Model:                            OLS   Adj. R-squared:                  0.982\n",
      "Method:                 Least Squares   F-statistic:                     8164.\n",
      "Date:                Sun, 14 Nov 2021   Prob (F-statistic):          1.09e-132\n",
      "Time:                        18:50:28   Log-Likelihood:                 1047.3\n",
      "No. Observations:                 152   AIC:                            -2091.\n",
      "Df Residuals:                     150   BIC:                            -2085.\n",
      "Df Model:                           1                                         \n",
      "Covariance Type:            nonrobust                                         \n",
      "====================================================================================\n",
      "                       coef    std err          t      P>|t|      [0.025      0.975]\n",
      "------------------------------------------------------------------------------------\n",
      "const                0.0004    4.8e-05      8.569      0.000       0.000       0.001\n",
      "2008_prop_female     0.9998      0.011     90.355      0.000       0.978       1.022\n",
      "==============================================================================\n",
      "Omnibus:                        1.443   Durbin-Watson:                   2.073\n",
      "Prob(Omnibus):                  0.486   Jarque-Bera (JB):                1.529\n",
      "Skew:                           0.204   Prob(JB):                        0.466\n",
      "Kurtosis:                       2.726   Cond. No.                         550.\n",
      "==============================================================================\n",
      "\n",
      "Notes:\n",
      "[1] Standard Errors assume that the covariance matrix of the errors is correctly specified.\n",
      "\n",
      "gradient  = 0.999773153865182\n",
      "intercept = 0.00041100534087909403\n",
      "Rsquared  = 0.9819581130341475\n",
      "MSE       = 6.144652004183014e-08\n",
      "pvalue    = 1.0919895208891397e-132\n"
     ]
    },
    {
     "name": "stderr",
     "output_type": "stream",
     "text": [
      "/opt/conda/envs/sds2021/lib/python3.9/site-packages/statsmodels/tsa/tsatools.py:142: FutureWarning: In a future version of pandas all arguments of concat except for the argument 'objs' will be keyword-only\n",
      "  x = pd.concat(x[::order], 1)\n"
     ]
    }
   ],
   "source": [
    "# Use the next line to set figure height and width (experiment to check the scale):\n",
    "data_f = pd.read_csv('coursework_1_data_2019.csv')[['2008_prop_female','2018_prop_female']]\n",
    "\n",
    "\n",
    "# These lines extract the y-values and the x-values from the data:\n",
    "x_values = data_f['2008_prop_female']\n",
    "y_values = data_f['2018_prop_female']\n",
    "\n",
    "# These lines perform the regression procedure:\n",
    "X_values = sms.add_constant(x_values)\n",
    "regression_model_a = sms.OLS(y_values, X_values)\n",
    "regression_model_b = regression_model_a.fit()\n",
    "# and print a summary of the results:\n",
    "print(regression_model_b.summary())\n",
    "print() # blank line\n",
    "\n",
    "# Now we store all the relevant values:\n",
    "gradient  = regression_model_b.params[1]\n",
    "intercept = regression_model_b.params[0]\n",
    "Rsquared  = regression_model_b.rsquared\n",
    "MSE       = regression_model_b.mse_resid\n",
    "pvalue    = regression_model_b.f_pvalue\n",
    "\n",
    "# And print them:\n",
    "print(\"gradient  =\", regression_model_b.params[1])\n",
    "print(\"intercept =\", regression_model_b.params[0])\n",
    "print(\"Rsquared  =\", regression_model_b.rsquared)\n",
    "print(\"MSE       =\", regression_model_b.mse_resid)\n",
    "print(\"pvalue    =\", regression_model_b.f_pvalue)\n"
   ]
  },
  {
   "cell_type": "code",
   "execution_count": 104,
   "id": "560537b8-9294-4e51-b620-2793584bc0fb",
   "metadata": {},
   "outputs": [
    {
     "data": {
      "image/png": "[encoded data removed]",
      "text/plain": [
       "<Figure size 432x288 with 2 Axes>"
      ]
     },
     "metadata": {
      "needs_background": "light"
     },
     "output_type": "display_data"
    }
   ],
   "source": [
    "# The next lines create and save the plot for male data:\n",
    "\n",
    "data_f = pd.read_csv('coursework_1_data_2019.csv')[['2008_prop_female','2018_prop_female']]\n",
    "x = data_f['2008_prop_female']\n",
    "y = data_f['2018_prop_female']\n",
    "\n",
    "plt.scatter(x,y,s=10)\n",
    "yhat = 0.9998*x + 0.0004\n",
    "fig = plt.plot(x, yhat, lw=2, c='r', label='regression line')\n",
    "plt.xlabel('2008_prop_female', fontsize=15)\n",
    "plt.ylabel('2018_prop_female', fontsize=15)\n",
    "plt.title('Propotion of Condition X for females')\n",
    "plt.colorbar()\n",
    "\n",
    "# Save this figure\n",
    "plt.savefig('female_regression.png', dpi=300, bbox_inches = 'tight')"
   ]
  },
  {
   "cell_type": "markdown",
   "id": "74a88bfd-7f0a-49b3-a5ff-420e14cf1d5e",
   "metadata": {},
   "source": [
    "## 2.2 Hypothesis Test: female"
   ]
  },
  {
   "cell_type": "code",
   "execution_count": 73,
   "id": "a6832444-8b10-48c1-aacb-dddc6012f492",
   "metadata": {},
   "outputs": [
    {
     "data": {
      "text/plain": [
       "<AxesSubplot:>"
      ]
     },
     "execution_count": 73,
     "metadata": {},
     "output_type": "execute_result"
    },
    {
     "data": {
      "image/png": "[encoded data removed]",
      "text/plain": [
       "<Figure size 432x288 with 1 Axes>"
      ]
     },
     "metadata": {
      "needs_background": "light"
     },
     "output_type": "display_data"
    },
    {
     "data": {
      "image/png": "[encoded data removed]",
      "text/plain": [
       "<Figure size 432x288 with 1 Axes>"
      ]
     },
     "metadata": {
      "needs_background": "light"
     },
     "output_type": "display_data"
    }
   ],
   "source": [
    "# Visualise the distribution of the data for male proportion (as histograms)\n",
    "\n",
    "# Set common x-limits for the histograms:\n",
    "# (using int() is a trick to round to the integer below)\n",
    "hist_min = int(min(min1,min2)) - 1\n",
    "hist_max = int(max(max1,max2)) + 2\n",
    "x_range = [hist_min, hist_max]\n",
    "\n",
    "# Set common y-limits for the histograms:\n",
    "y_range = [0.0,0.4]\n",
    "\n",
    "# Choose an appropriate number of columns for the histogram:\n",
    "n_cols = hist_min, hist_max\n",
    "\n",
    "# Now create the plots:\n",
    "# (The plt.figure(x) functions create new plots preventing...\n",
    "# ... both histograms from being drawn on the same axes.)\n",
    "\n",
    "plt.figure(1)\n",
    "data_f['2008_prop_female'].hist(range=x_range, bins=n_cols, density=True)\n",
    "plt.ylim(y_range)\n",
    "\n",
    "plt.figure(2)\n",
    "plt.ylim(y_range)\n",
    "data_f['2018_prop_female'].hist(range=x_range, bins=n_cols, density=True)"
   ]
  },
  {
   "cell_type": "markdown",
   "id": "4a7bc5ad-b7ed-483e-93e9-06356f54964f",
   "metadata": {},
   "source": [
    "## 2.2 Hypothesis Test"
   ]
  },
  {
   "cell_type": "markdown",
   "id": "1794966b-ed3e-4455-951c-517e20512778",
   "metadata": {},
   "source": [
    " step1: state hypoythesis"
   ]
  },
  {
   "cell_type": "code",
   "execution_count": 55,
   "id": "7f594c57-b4c6-40b6-9092-3838df76f555",
   "metadata": {
    "tags": []
   },
   "outputs": [],
   "source": [
    "# H0: The situation of Condition X of female does not reduced by intervension between 2008 and 2018\n",
    "# H1: The situation of Condition X of female reduced by intervension between 2008 and 2018"
   ]
  },
  {
   "cell_type": "markdown",
   "id": "d3eda933-cb69-47d8-8dd5-ef812befaef8",
   "metadata": {},
   "source": [
    "step2: Set significance level:"
   ]
  },
  {
   "cell_type": "code",
   "execution_count": null,
   "id": "e918a5f7-7f86-4169-b860-70190c9369de",
   "metadata": {},
   "outputs": [],
   "source": [
    "alpha = 0.05"
   ]
  },
  {
   "cell_type": "code",
   "execution_count": null,
   "id": "312958f0-d2aa-4e7a-ba4c-73f94d9d9d1d",
   "metadata": {},
   "outputs": [],
   "source": [
    "step3-4: "
   ]
  },
  {
   "cell_type": "code",
   "execution_count": 82,
   "id": "abe60a31-cac6-4e94-8b77-9ce35e43af85",
   "metadata": {},
   "outputs": [
    {
     "name": "stdout",
     "output_type": "stream",
     "text": [
      "std_ratio = 0.5555555555555556\n",
      "Can assume equal population standard deviations.\n",
      "p-value = 0.051817033288467686\n"
     ]
    }
   ],
   "source": [
    "data1 = data_f['2008_prop_female']\n",
    "data2 = data_f['2018_prop_female']\n",
    "\n",
    "std_ratio = std1/std2\n",
    "\n",
    "print(\"std_ratio =\", std_ratio)\n",
    "\n",
    "if std_ratio > 0.5 and std_ratio < 2:\n",
    "    print(\"Can assume equal population standard deviations.\")\n",
    "    equal_stds = True\n",
    "else:\n",
    "    print(\"Cannot assume equal population standard deviations.\")\n",
    "    equal_stds = False\n",
    "test_stat, p_value = sps.ttest_ind(data1, data2, equal_var = equal_stds)\n",
    "print(\"p-value =\", p_value)"
   ]
  },
  {
   "cell_type": "markdown",
   "id": "858bac98-57db-4e32-9253-2efe9123db3a",
   "metadata": {},
   "source": [
    "step5: Conclusion"
   ]
  },
  {
   "cell_type": "code",
   "execution_count": 116,
   "id": "0792bc06-d5ad-4477-a17d-8dbe9765e12e",
   "metadata": {},
   "outputs": [
    {
     "name": "stdout",
     "output_type": "stream",
     "text": [
      "p-value >= significance threshold.\n",
      "No significant evidence to reject H0.\n",
      "Interventions have no significant impact on male obesity between 2008 and 2018.\n"
     ]
    }
   ],
   "source": [
    "# Reach a conclusion:\n",
    "\n",
    "alpha = 0.05\n",
    "p_value = 0.051817033288467686\n",
    "\n",
    "if p_value < alpha:\n",
    "    print(\"p-value < significance threshold.\")\n",
    "    print(\"Reject H0. Accept H1.\")\n",
    "    print(\"Interventions have significant impact on female obesity between 2008 and 2018.\")\n",
    "elif p_value >= alpha:\n",
    "    print(\"p-value >= significance threshold.\")\n",
    "    print(\"No significant evidence to reject H0.\")\n",
    "    print(\"Interventions have no significant impact on male obesity between 2008 and 2018.\")"
   ]
  },
  {
   "cell_type": "code",
   "execution_count": null,
   "id": "ce8c223c-6d0c-495e-955f-f52618dd1744",
   "metadata": {},
   "outputs": [],
   "source": []
  }
 ],
 "metadata": {
  "kernelspec": {
   "display_name": "Python 3 (ipykernel)",
   "language": "python",
   "name": "python3"
  },
  "language_info": {
   "codemirror_mode": {
    "name": "ipython",
    "version": 3
   },
   "file_extension": ".py",
   "mimetype": "text/x-python",
   "name": "python",
   "nbconvert_exporter": "python",
   "pygments_lexer": "ipython3",
   "version": "3.9.6"
  }
 },
 "nbformat": 4,
 "nbformat_minor": 5
}
